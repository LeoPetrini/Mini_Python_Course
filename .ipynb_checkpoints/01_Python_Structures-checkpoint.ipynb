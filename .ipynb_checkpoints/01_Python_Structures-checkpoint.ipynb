{
 "cells": [
  {
   "cell_type": "markdown",
   "metadata": {},
   "source": [
    "## Built-in Data Structures\n",
    "- **Sets { }**\n",
    "    - unordered, mutable\n",
    "    - slow to iterate\n",
    "    - fast to check object presence\n",
    "    - unique items\n",
    "    - O(1) lookup speed\n",
    "    \n",
    "    \n",
    "- (**Frozen Sets**)\n",
    "    - unordered, immutable\n",
    "    \n",
    "    \n",
    "- **Lists [ ]**\n",
    "    - ordered\n",
    "    - O(n) lookup speed\n",
    "    \n",
    "    \n",
    "- **Dictionaries { }**\n",
    "    - unordered\n",
    "    - (key:value) structure, where (k:v) is an item\n",
    "    - value can be any data structure\n",
    "    - O(1) lookup speed\n",
    "    - can iterate through items, values, keys\n",
    "    \n",
    "    \n",
    "- **Tuples ( )**\n",
    "    - immutables\n",
    "    - less memory\n"
   ]
  },
  {
   "cell_type": "markdown",
   "metadata": {},
   "source": [
    "## Other Structures"
   ]
  },
  {
   "cell_type": "markdown",
   "metadata": {},
   "source": [
    "- **Collections package**\n",
    "    - defaultdict\n",
    "    - OrderedDict\n",
    "    - Counter\n",
    "    - namedtuple\n",
    "    \n",
    "\n",
    "- **Numpy Array**"
   ]
  },
  {
   "cell_type": "code",
   "execution_count": 12,
   "metadata": {
    "collapsed": true
   },
   "outputs": [],
   "source": [
    "import collections\n",
    "import numpy as np\n",
    "import pandas as pd"
   ]
  },
  {
   "cell_type": "markdown",
   "metadata": {},
   "source": [
    "## Some basic examples"
   ]
  },
  {
   "cell_type": "code",
   "execution_count": 21,
   "metadata": {},
   "outputs": [
    {
     "data": {
      "text/plain": [
       "2"
      ]
     },
     "execution_count": 21,
     "metadata": {},
     "output_type": "execute_result"
    }
   ],
   "source": [
    "my_list = [1, np.nan, 3, 3, 3, np.nan]\n",
    "collections.Counter(my_list)[np.nan]\n",
    "np.count_nonzero(np.isnan(my_list)) "
   ]
  },
  {
   "cell_type": "code",
   "execution_count": 27,
   "metadata": {},
   "outputs": [
    {
     "data": {
      "text/plain": [
       "a    4\n",
       "b    3\n",
       "dtype: int64"
      ]
     },
     "execution_count": 27,
     "metadata": {},
     "output_type": "execute_result"
    }
   ],
   "source": [
    "temp = pd.DataFrame({'a':[1, np.nan, 3, 3, 3, np.nan], 'b':[np.nan, np.nan, 3, 3, 3, np.nan]})\n",
    "temp.count()# value_counts(dropna=False)"
   ]
  },
  {
   "cell_type": "code",
   "execution_count": 30,
   "metadata": {},
   "outputs": [
    {
     "data": {
      "text/plain": [
       "a    2\n",
       "b    3\n",
       "dtype: int64"
      ]
     },
     "execution_count": 30,
     "metadata": {},
     "output_type": "execute_result"
    }
   ],
   "source": [
    "temp.isnull().sum()"
   ]
  }
 ],
 "metadata": {
  "kernelspec": {
   "display_name": "Python 3",
   "language": "python",
   "name": "python3"
  },
  "language_info": {
   "codemirror_mode": {
    "name": "ipython",
    "version": 3
   },
   "file_extension": ".py",
   "mimetype": "text/x-python",
   "name": "python",
   "nbconvert_exporter": "python",
   "pygments_lexer": "ipython3",
   "version": "3.6.1"
  }
 },
 "nbformat": 4,
 "nbformat_minor": 2
}
