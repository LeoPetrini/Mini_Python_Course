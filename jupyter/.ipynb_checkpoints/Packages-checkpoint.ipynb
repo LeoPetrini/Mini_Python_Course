{
 "cells": [
  {
   "cell_type": "markdown",
   "metadata": {},
   "source": [
    "## Built-in Data Structures\n",
    "- **Sets { }**\n",
    "    - unordered, mutable\n",
    "    - slow to iterate\n",
    "    - fast to check object presence\n",
    "    - unique items\n",
    "    - O(1) lookup speed\n",
    "    \n",
    "    \n",
    "- **Frozen Sets**\n",
    "    - unordered, immutable\n",
    "    \n",
    "    \n",
    "- **Lists [ ]**\n",
    "    - ordered\n",
    "    - O(n) lookup speed\n",
    "    \n",
    "    \n",
    "- **Dictionaries { }**\n",
    "    - unordered\n",
    "    - (key:value) structure, where (k:v) is an item\n",
    "    - value can be any data structure\n",
    "    - O(1) lookup speed\n",
    "    - can iterate through items, values, keys\n",
    "    \n",
    "    \n",
    "- **Tuples ( )**\n",
    "    - immutables\n",
    "    - less memory\n"
   ]
  },
  {
   "cell_type": "markdown",
   "metadata": {},
   "source": [
    "## Other Structures"
   ]
  },
  {
   "cell_type": "markdown",
   "metadata": {},
   "source": [
    "- **Collections package**\n",
    "    - defaultdict\n",
    "    - OrderedDict\n",
    "    - Counter\n",
    "    - namedtuple\n",
    "    \n",
    "\n",
    "- **Numpy Array**"
   ]
  },
  {
   "cell_type": "code",
   "execution_count": 7,
   "metadata": {
    "collapsed": true
   },
   "outputs": [],
   "source": [
    "import collections\n",
    "import numpy as np\n",
    "import pandas as pd"
   ]
  },
  {
   "cell_type": "markdown",
   "metadata": {},
   "source": [
    "## NaN "
   ]
  },
  {
   "cell_type": "code",
   "execution_count": 25,
   "metadata": {},
   "outputs": [
    {
     "data": {
      "text/plain": [
       "2"
      ]
     },
     "execution_count": 25,
     "metadata": {},
     "output_type": "execute_result"
    }
   ],
   "source": [
    "my_list = [1, np.nan, 3, 3, 3, np.nan]\n",
    "collections.Counter(my_list)[np.nan]\n",
    "np.count_nonzero(np.isnan(my_list)) "
   ]
  },
  {
   "cell_type": "code",
   "execution_count": 21,
   "metadata": {},
   "outputs": [
    {
     "data": {
      "text/plain": [
       " 3.0    3\n",
       "NaN     2\n",
       " 1.0    1\n",
       "Name: a, dtype: int64"
      ]
     },
     "execution_count": 21,
     "metadata": {},
     "output_type": "execute_result"
    }
   ],
   "source": [
    "temp = pd.DataFrame({'a':[1, np.nan, 3, 3, 3, np.nan], 'b':[np.nan, np.nan, 3, 3, 3, np.nan]})\n",
    "temp['a'].value_counts(dropna=False)[np.nan]"
   ]
  },
  {
   "cell_type": "code",
   "execution_count": 22,
   "metadata": {},
   "outputs": [
    {
     "data": {
      "text/plain": [
       "a    2\n",
       "b    3\n",
       "dtype: int64"
      ]
     },
     "execution_count": 22,
     "metadata": {},
     "output_type": "execute_result"
    }
   ],
   "source": [
    "temp.isnull().sum()"
   ]
  },
  {
   "cell_type": "code",
   "execution_count": null,
   "metadata": {
    "collapsed": true
   },
   "outputs": [],
   "source": []
  },
  {
   "cell_type": "code",
   "execution_count": null,
   "metadata": {
    "collapsed": true
   },
   "outputs": [],
   "source": []
  },
  {
   "cell_type": "code",
   "execution_count": null,
   "metadata": {
    "collapsed": true
   },
   "outputs": [],
   "source": []
  }
 ],
 "metadata": {
  "kernelspec": {
   "display_name": "Python 3",
   "language": "python",
   "name": "python3"
  },
  "language_info": {
   "codemirror_mode": {
    "name": "ipython",
    "version": 3
   },
   "file_extension": ".py",
   "mimetype": "text/x-python",
   "name": "python",
   "nbconvert_exporter": "python",
   "pygments_lexer": "ipython3",
   "version": "3.6.1"
  }
 },
 "nbformat": 4,
 "nbformat_minor": 2
}
